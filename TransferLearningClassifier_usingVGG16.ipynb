{
  "nbformat": 4,
  "nbformat_minor": 0,
  "metadata": {
    "colab": {
      "name": "TransferLearningClassifier_usingVGG16.ipynb",
      "provenance": [],
      "authorship_tag": "ABX9TyN9QC40+EQVieMR7NXwKmAD",
      "include_colab_link": true
    },
    "kernelspec": {
      "name": "python3",
      "display_name": "Python 3"
    },
    "accelerator": "GPU"
  },
  "cells": [
    {
      "cell_type": "markdown",
      "metadata": {
        "id": "view-in-github",
        "colab_type": "text"
      },
      "source": [
        "<a href=\"https://colab.research.google.com/github/GoldFiiish/semester2nd/blob/master/TransferLearningClassifier_usingVGG16.ipynb\" target=\"_parent\"><img src=\"https://colab.research.google.com/assets/colab-badge.svg\" alt=\"Open In Colab\"/></a>"
      ]
    },
    {
      "cell_type": "code",
      "metadata": {
        "id": "EuBDswk9lBpD",
        "colab_type": "code",
        "colab": {}
      },
      "source": [
        "import pandas as pd\n",
        "import numpy as np\n",
        "import os\n",
        "import tensorflow.keras\n",
        "import matplotlib.pyplot as plt\n",
        "from tensorflow.keras.layers import Dense,GlobalAveragePooling2D\n",
        "from tensorflow.keras.applications import MobileNet\n",
        "from tensorflow.keras.preprocessing import image\n",
        "from tensorflow.keras.applications.mobilenet import preprocess_input\n",
        "from tensorflow.keras.preprocessing.image import ImageDataGenerator\n",
        "from tensorflow.keras.models import Model\n",
        "from tensorflow.keras.optimizers import Adam\n",
        "\n",
        "%matplotlib inline\n",
        "from PIL import Image, ImageFile\n",
        "from matplotlib.pyplot import imshow\n",
        "import requests\n",
        "from io import BytesIO\n",
        "from IPython.display import display, HTML\n",
        "from tensorflow.keras.applications.mobilenet import decode_predictions\n",
        "\n"
      ],
      "execution_count": 0,
      "outputs": []
    },
    {
      "cell_type": "code",
      "metadata": {
        "id": "P8i2WXnLl6Q2",
        "colab_type": "code",
        "outputId": "e9bdc9d4-38f8-464e-c91b-2ed3e0f5a29a",
        "colab": {
          "base_uri": "https://localhost:8080/",
          "height": 876
        }
      },
      "source": [
        "base_model=tensorflow.keras.applications.VGG16(weights='imagenet',include_top=False) \n",
        "#imports the mobilenet model and discards the last 1000 neuron layer.\n",
        "\n",
        "base_model.summary()"
      ],
      "execution_count": 0,
      "outputs": [
        {
          "output_type": "stream",
          "text": [
            "Model: \"vgg16\"\n",
            "_________________________________________________________________\n",
            "Layer (type)                 Output Shape              Param #   \n",
            "=================================================================\n",
            "input_7 (InputLayer)         [(None, None, None, 3)]   0         \n",
            "_________________________________________________________________\n",
            "block1_conv1 (Conv2D)        (None, None, None, 64)    1792      \n",
            "_________________________________________________________________\n",
            "block1_conv2 (Conv2D)        (None, None, None, 64)    36928     \n",
            "_________________________________________________________________\n",
            "block1_pool (MaxPooling2D)   (None, None, None, 64)    0         \n",
            "_________________________________________________________________\n",
            "block2_conv1 (Conv2D)        (None, None, None, 128)   73856     \n",
            "_________________________________________________________________\n",
            "block2_conv2 (Conv2D)        (None, None, None, 128)   147584    \n",
            "_________________________________________________________________\n",
            "block2_pool (MaxPooling2D)   (None, None, None, 128)   0         \n",
            "_________________________________________________________________\n",
            "block3_conv1 (Conv2D)        (None, None, None, 256)   295168    \n",
            "_________________________________________________________________\n",
            "block3_conv2 (Conv2D)        (None, None, None, 256)   590080    \n",
            "_________________________________________________________________\n",
            "block3_conv3 (Conv2D)        (None, None, None, 256)   590080    \n",
            "_________________________________________________________________\n",
            "block3_pool (MaxPooling2D)   (None, None, None, 256)   0         \n",
            "_________________________________________________________________\n",
            "block4_conv1 (Conv2D)        (None, None, None, 512)   1180160   \n",
            "_________________________________________________________________\n",
            "block4_conv2 (Conv2D)        (None, None, None, 512)   2359808   \n",
            "_________________________________________________________________\n",
            "block4_conv3 (Conv2D)        (None, None, None, 512)   2359808   \n",
            "_________________________________________________________________\n",
            "block4_pool (MaxPooling2D)   (None, None, None, 512)   0         \n",
            "_________________________________________________________________\n",
            "block5_conv1 (Conv2D)        (None, None, None, 512)   2359808   \n",
            "_________________________________________________________________\n",
            "block5_conv2 (Conv2D)        (None, None, None, 512)   2359808   \n",
            "_________________________________________________________________\n",
            "block5_conv3 (Conv2D)        (None, None, None, 512)   2359808   \n",
            "_________________________________________________________________\n",
            "block5_pool (MaxPooling2D)   (None, None, None, 512)   0         \n",
            "=================================================================\n",
            "Total params: 14,714,688\n",
            "Trainable params: 14,714,688\n",
            "Non-trainable params: 0\n",
            "_________________________________________________________________\n"
          ],
          "name": "stdout"
        }
      ]
    },
    {
      "cell_type": "code",
      "metadata": {
        "id": "bPPHKy_Yl7Ep",
        "colab_type": "code",
        "colab": {}
      },
      "source": [
        "x=base_model.output\n",
        "x=GlobalAveragePooling2D()(x)\n",
        "x=Dense(1024,activation='relu')(x) \n",
        "x=Dense(1024,activation='relu')(x) \n",
        "preds=Dense(2,activation='softmax')(x)"
      ],
      "execution_count": 0,
      "outputs": []
    },
    {
      "cell_type": "markdown",
      "metadata": {
        "id": "nyFSUlC9KkaW",
        "colab_type": "text"
      },
      "source": [
        ""
      ]
    },
    {
      "cell_type": "code",
      "metadata": {
        "id": "bh67ksKwl-Ut",
        "colab_type": "code",
        "colab": {}
      },
      "source": [
        "model=Model(inputs=base_model.input,outputs=preds)\n",
        "\n",
        "for layer in model.layers[:20]:\n",
        "    layer.trainable=False\n",
        "for layer in model.layers[20:]:\n",
        "    layer.trainable=True"
      ],
      "execution_count": 0,
      "outputs": []
    },
    {
      "cell_type": "code",
      "metadata": {
        "id": "-9D8ozh4mAy7",
        "colab_type": "code",
        "outputId": "3c2fe17f-c79c-47af-8a93-6e99fb5665e4",
        "colab": {
          "base_uri": "https://localhost:8080/",
          "height": 36
        }
      },
      "source": [
        "from google.colab import drive\n",
        "\n",
        "drive.mount('/content/gdrive')"
      ],
      "execution_count": 0,
      "outputs": [
        {
          "output_type": "stream",
          "text": [
            "Drive already mounted at /content/gdrive; to attempt to forcibly remount, call drive.mount(\"/content/gdrive\", force_remount=True).\n"
          ],
          "name": "stdout"
        }
      ]
    },
    {
      "cell_type": "code",
      "metadata": {
        "id": "uslTVlAKmHGk",
        "colab_type": "code",
        "outputId": "e5658e96-48e9-448c-fb56-83f52893827e",
        "colab": {
          "base_uri": "https://localhost:8080/",
          "height": 54
        }
      },
      "source": [
        "train_datagen=ImageDataGenerator(preprocessing_function=preprocess_input) \n",
        "display(train_datagen)\n",
        "train_generator=train_datagen.flow_from_directory('gdrive/My Drive/covid_db', \n",
        "                                                 target_size=(224,224),\n",
        "                                                 color_mode='rgb',\n",
        "                                                 batch_size=1,\n",
        "                                                 class_mode='categorical',\n",
        "                                                 shuffle=True)\n"
      ],
      "execution_count": 0,
      "outputs": [
        {
          "output_type": "display_data",
          "data": {
            "text/plain": [
              "<tensorflow.python.keras.preprocessing.image.ImageDataGenerator at 0x7f9af05bfe80>"
            ]
          },
          "metadata": {
            "tags": []
          }
        },
        {
          "output_type": "stream",
          "text": [
            "Found 746 images belonging to 2 classes.\n"
          ],
          "name": "stdout"
        }
      ]
    },
    {
      "cell_type": "code",
      "metadata": {
        "id": "djPWvU86qhUE",
        "colab_type": "code",
        "outputId": "43d76960-a734-4a48-ed9a-4ecd64d3bd8f",
        "colab": {
          "base_uri": "https://localhost:8080/",
          "height": 54
        }
      },
      "source": [
        "print(train_generator.batch_size)\n",
        "print(train_generator.n//train_generator.batch_size)"
      ],
      "execution_count": 0,
      "outputs": [
        {
          "output_type": "stream",
          "text": [
            "1\n",
            "746\n"
          ],
          "name": "stdout"
        }
      ]
    },
    {
      "cell_type": "code",
      "metadata": {
        "id": "cREgAYJAmZ6M",
        "colab_type": "code",
        "outputId": "85515f0b-e4d4-47c5-8cdd-b0d8497ae844",
        "colab": {
          "base_uri": "https://localhost:8080/",
          "height": 540
        }
      },
      "source": [
        "model.compile(optimizer='Adam',loss='categorical_crossentropy',metrics=['accuracy'])\n",
        "\n",
        "step_size_train=train_generator.n//train_generator.batch_size\n",
        "model.fit_generator(generator=train_generator,\n",
        "                   steps_per_epoch=step_size_train,\n",
        "                   epochs=12)"
      ],
      "execution_count": 0,
      "outputs": [
        {
          "output_type": "stream",
          "text": [
            "WARNING:tensorflow:From <ipython-input-15-e9956853f6d1>:6: Model.fit_generator (from tensorflow.python.keras.engine.training) is deprecated and will be removed in a future version.\n",
            "Instructions for updating:\n",
            "Please use Model.fit, which supports generators.\n",
            "Epoch 1/12\n",
            "746/746 [==============================] - 21s 28ms/step - loss: 0.6831 - accuracy: 0.6421\n",
            "Epoch 2/12\n",
            "746/746 [==============================] - 21s 28ms/step - loss: 0.4960 - accuracy: 0.7560\n",
            "Epoch 3/12\n",
            "746/746 [==============================] - 21s 28ms/step - loss: 0.4424 - accuracy: 0.7815\n",
            "Epoch 4/12\n",
            "746/746 [==============================] - 21s 28ms/step - loss: 0.4302 - accuracy: 0.7949\n",
            "Epoch 5/12\n",
            "746/746 [==============================] - 21s 28ms/step - loss: 0.3991 - accuracy: 0.8284\n",
            "Epoch 6/12\n",
            "746/746 [==============================] - 21s 28ms/step - loss: 0.3655 - accuracy: 0.8338\n",
            "Epoch 7/12\n",
            "746/746 [==============================] - 21s 28ms/step - loss: 0.3442 - accuracy: 0.8391\n",
            "Epoch 8/12\n",
            "746/746 [==============================] - 21s 28ms/step - loss: 0.3235 - accuracy: 0.8539\n",
            "Epoch 9/12\n",
            "746/746 [==============================] - 21s 28ms/step - loss: 0.3198 - accuracy: 0.8606\n",
            "Epoch 10/12\n",
            "746/746 [==============================] - 21s 28ms/step - loss: 0.2945 - accuracy: 0.8727\n",
            "Epoch 11/12\n",
            "746/746 [==============================] - 21s 28ms/step - loss: 0.2825 - accuracy: 0.8753\n",
            "Epoch 12/12\n",
            "746/746 [==============================] - 21s 28ms/step - loss: 0.2435 - accuracy: 0.9075\n"
          ],
          "name": "stdout"
        },
        {
          "output_type": "execute_result",
          "data": {
            "text/plain": [
              "<tensorflow.python.keras.callbacks.History at 0x7f9aee53e048>"
            ]
          },
          "metadata": {
            "tags": []
          },
          "execution_count": 15
        }
      ]
    },
    {
      "cell_type": "code",
      "metadata": {
        "id": "iiOyWHzFmaoj",
        "colab_type": "code",
        "outputId": "79a240b2-179b-47ce-bcac-b272865ddd60",
        "colab": {
          "base_uri": "https://localhost:8080/",
          "height": 409
        }
      },
      "source": [
        "from numpy import zeros, newaxis\n",
        "\n",
        "IMAGE_WIDTH = 224\n",
        "IMAGE_HEIGHT = 224\n",
        "IMAGE_CHANNELS = 3\n",
        "\n",
        "images = [\n",
        "    \"https://www.researchgate.net/publication/341389174/figure/fig1/AS:891265684082690@1589505706803/CT-findings-in-a-51-year-old-male-patient-with-critical-COVID-19-who-had-type-I_Q320.jpg\",\n",
        "    #\"https://encrypted-tbn0.gstatic.com/images?q=tbn%3AANd9GcSAk7Zvt0eF6E8j6NjToCmiN4sioKHpJVas9ELBqhmu57vtjsrY&usqp=CAU\",\n",
        "    #\"https://careguideforpets.com/wp-content/uploads/2020/01/german-shepherd-main.jpg\",\n",
        "    #\"https://archive.content.aah.net.au/files/images/german-shepherd-head-tilt.jpg\",\n",
        "    #\"https://encrypted-tbn0.gstatic.com/images?q=tbn%3AANd9GcQ1meaMgJuPHbitAtfHWI2PUyuVqdt2WBKlzIMCaeuu5brCEpvR&usqp=CAU\",\n",
        "    #\"https://img.pixers.pics/pho_wat(s3:700/FO/57/85/21/98/700_FO57852198_85c778be6b2cec92c684cfc1898a7308.jpg,700,582,cms:2018/10/5bd1b6b8d04b8_220x50-watermark.png,over,480,532,jpg)/wall-murals-bulldog-puppy.jpg.jpg\"\n",
        "    \n",
        "]\n",
        "\n",
        "\n",
        "def make_square(img):\n",
        "    cols,rows = img.size\n",
        "    \n",
        "    if rows>cols:\n",
        "        pad = (rows-cols)/2\n",
        "        img = img.crop((pad,0,cols,cols))\n",
        "    else:\n",
        "        pad = (cols-rows)/2\n",
        "        img = img.crop((0,pad,rows,rows))\n",
        "    \n",
        "    return img\n",
        "        \n",
        "for url in images:\n",
        "    x = []\n",
        "    ImageFile.LOAD_TRUNCATED_IMAGES = False\n",
        "    response = requests.get(url)\n",
        "    img = Image.open(BytesIO(response.content))\n",
        "    img.load()\n",
        "    #img = np.expand_dims(img, axis=3)\n",
        "    print(img)\n",
        "    print(np.shape(img))\n",
        "    #img[:, :, newaxis]\n",
        "    print(np.shape(img))\n",
        "\n",
        "    #plt.imshow(img, cmd='rgb')\n",
        "    img = img.resize((IMAGE_WIDTH,IMAGE_HEIGHT),Image.ANTIALIAS)\n",
        "    \n",
        "    x = image.img_to_array(img)\n",
        "    #x[:, :, newaxis]\n",
        "    print(x.shape)\n",
        "\n",
        "    wi, he , ch= x.shape\n",
        "    print(wi)\n",
        "\n",
        "    xx = np.empty((wi, he, 3), dtype=np.uint8)\n",
        "    xx[:, :, 0] = x[:, : ,0]\n",
        "    xx[:, :, 1] = x[:, : ,0]\n",
        "    xx[:, :, 2] = x[:, : ,0]\n",
        "    print(np.shape(xx))\n",
        "\n",
        "    xx = np.expand_dims(xx, axis=0)\n",
        "    print(np.shape(xx))\n",
        "\n",
        "    xx = preprocess_input(xx)\n",
        "    pred = model.predict(xx)\n",
        "    \n",
        "    display(\"___________________________________________________________________________________________\")\n",
        "    display(img)\n",
        "    print(np.argmax(pred,axis=1))\n",
        "\n",
        "\n",
        "\n"
      ],
      "execution_count": 0,
      "outputs": [
        {
          "output_type": "stream",
          "text": [
            "<PIL.JpegImagePlugin.JpegImageFile image mode=L size=320x320 at 0x7F9AEE077390>\n",
            "(320, 320)\n",
            "(320, 320)\n",
            "(224, 224, 1)\n",
            "224\n",
            "(224, 224, 3)\n",
            "(1, 224, 224, 3)\n"
          ],
          "name": "stdout"
        },
        {
          "output_type": "display_data",
          "data": {
            "text/plain": [
              "'___________________________________________________________________________________________'"
            ]
          },
          "metadata": {
            "tags": []
          }
        },
        {
          "output_type": "display_data",
          "data": {
            "image/png": "[encoded data removed]",
            "text/plain": [
              "<PIL.Image.Image image mode=L size=224x224 at 0x7F9AEE254D68>"
            ]
          },
          "metadata": {
            "tags": []
          }
        },
        {
          "output_type": "stream",
          "text": [
            "[0]\n"
          ],
          "name": "stdout"
        }
      ]
    },
    {
      "cell_type": "markdown",
      "metadata": {
        "id": "Zu_igDNwR5NN",
        "colab_type": "text"
      },
      "source": [
        ""
      ]
    }
  ]
}